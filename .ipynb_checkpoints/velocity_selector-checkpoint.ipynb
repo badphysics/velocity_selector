{
 "cells": [
  {
   "cell_type": "code",
   "execution_count": 17,
   "metadata": {
    "collapsed": false,
    "deletable": true,
    "editable": true,
    "slideshow": {
     "slide_type": "skip"
    },
    "tags": [
     "jupyter:hide_input"
    ]
   },
   "outputs": [],
   "source": [
    "import numpy as np\n",
    "import matplotlib.pyplot as plt\n",
    "\n",
    "from scipy.integrate import odeint\n",
    "m = 1.67e-27 # mass\n",
    "q = 1.6e-19  # charge\n",
    "E = 1000     #N/C in the positive y direction\n",
    "vx = 4.0e1   # m/s in xdirection\n",
    "B = -2.0e-3   # Tesla\n",
    "vy=0.0\n",
    "a = q*(E-vx*B)/m\n",
    "\n",
    "t = np.linspace(0,0.5,25000)\n",
    "def harm(x,t):\n",
    "    y = x[1]\n",
    "    v = -x[0]\n",
    "    return [y,v]\n",
    "\n",
    "def eqns(x,t,m,q,E,B):\n",
    "    dy1 = x[2]\n",
    "    dy2 = x[3]\n",
    "    dy3 = q*(x[3]*B)/m\n",
    "    dy4 = q*(E-x[2]*B)/m\n",
    "    return [dy1,dy2,dy3,dy4]\n",
    "\n",
    "def velsel(E,B=1.0e-7,q=1.6e-19,m=1.67e-27,vx=1.0e2):\n",
    "    \n",
    "    #E = np.abs(1.0e1*B)\n",
    "    vy=0.0\n",
    "    ax = plt.figure()\n",
    "    y0 = [0.0,5.,vx,vy]\n",
    "    args=(m,q,E,B)\n",
    "    sol = odeint(eqns, y0, t,args)\n",
    "    #ax.axis([0,10,0,10])\n",
    "    _ = plt.plot(sol[:,0],sol[:,1])\n",
    "    _ = plt.axis([0,10,0,10])\n",
    "    _ = plt.title(\"E = \" + str(E))\n",
    "    #plt.plot(t,sol[:,1])\n",
    "    _ = plt.grid()\n",
    "    xarrow=np.linspace(0.5,9.5,9)\n",
    "    for coord in xarrow:\n",
    "        _ = plt.arrow(coord, 0.2, 0, 9, head_width=0.25, head_length=0.75, fc='b', ec='b')\n",
    "    _ = plt.annotate(\"E\", xy=(2, 1), xytext=(8.5, 5),color='b',size=20)\n",
    "\n",
    "    return ax\n",
    "\n",
    "\n",
    "    \n"
   ]
  },
  {
   "cell_type": "markdown",
   "metadata": {
    "deletable": true,
    "editable": true,
    "slideshow": {
     "slide_type": "slide"
    }
   },
   "source": [
    "# Velocity Selector\n",
    "\n",
    "\n",
    "## Lorentz force law\n",
    "\n",
    "A charge, q, moving through a region with velocity, $\\mathbf{v}$,  with an electric field, $\\mathbf{E}$ and magnetic field, $\\mathbf{B}$, experiences a force given by \n",
    "\n",
    "$$\n",
    "\\mathbf{F} = q \\;(\\mathbf{E} + \\mathbf{v}\\times\\mathbf{B})\n",
    "$$\n",
    "\n",
    "Consider a region in space with a uniform electric field, $\\mathbf{E} = E \\;\\hat{\\mathbf{\\jmath}}$.  A proton enters this region of space with velocity $\\mathbf{v} = v\\;\\hat{\\imath}$.\n",
    "\n",
    "There is also an uniform magnetic field perpendicular to the screen.\n"
   ]
  },
  {
   "cell_type": "code",
   "execution_count": 18,
   "metadata": {
    "collapsed": false,
    "deletable": true,
    "editable": true,
    "hideCode": false,
    "slideshow": {
     "slide_type": "slide"
    },
    "tags": [
     "jupyter:hide_input"
    ]
   },
   "outputs": [
    {
     "data": {
      "image/png": "[encoded data removed]",
      "text/plain": [
       "<matplotlib.figure.Figure at 0x113feadd8>"
      ]
     },
     "metadata": {},
     "output_type": "display_data"
    }
   ],
   "source": [
    "\n",
    "plt.axes().set_aspect('equal')\n",
    "plt.axis([0,10,0,10])\n",
    "\n",
    "plt.grid()\n",
    "xarrow=np.linspace(0.5,9.5,9)\n",
    "for coord in xarrow:\n",
    "    plt.arrow(coord, 0.2, 0, 9, head_width=0.25, head_length=0.75, fc='b', ec='b')\n",
    "plt.annotate('E', xy=(2, 1), xytext=(8.5, 5),color='b',size=20)\n",
    "plt.title('Uniform electric field in the positive y direction')\n",
    "plt.show()"
   ]
  },
  {
   "cell_type": "markdown",
   "metadata": {},
   "source": [
    "### Example \n",
    "Here is an example of a charge entering the region where the electric force is less than the magnetic force."
   ]
  },
  {
   "cell_type": "code",
   "execution_count": 19,
   "metadata": {
    "collapsed": false,
    "deletable": true,
    "editable": true,
    "slideshow": {
     "slide_type": "skip"
    },
    "tags": [
     "jupyter:hide_input"
    ]
   },
   "outputs": [
    {
     "data": {
      "image/png": "[encoded data removed]",
      "text/plain": [
       "<matplotlib.figure.Figure at 0x114537828>"
      ]
     },
     "metadata": {},
     "output_type": "display_data"
    }
   ],
   "source": [
    "f = velsel(0.5e-4)\n",
    "plt.show()\n",
    "\n"
   ]
  },
  {
   "cell_type": "markdown",
   "metadata": {},
   "source": [
    "Now we have the electric force and magnetic force equaling each other.  This means the charge is able to go straight through."
   ]
  },
  {
   "cell_type": "code",
   "execution_count": 20,
   "metadata": {
    "collapsed": false,
    "deletable": true,
    "editable": true,
    "slideshow": {
     "slide_type": "skip"
    },
    "tags": [
     "jupyter:hide_input"
    ]
   },
   "outputs": [
    {
     "data": {
      "image/png": "[encoded data removed]",
      "text/plain": [
       "<matplotlib.figure.Figure at 0x115071898>"
      ]
     },
     "metadata": {},
     "output_type": "display_data"
    }
   ],
   "source": [
    "g = velsel(1.0e-5)\n",
    "plt.show()\n"
   ]
  },
  {
   "cell_type": "markdown",
   "metadata": {
    "deletable": true,
    "editable": true
   },
   "source": [
    "Now the electric force is less than the  magnetic force. "
   ]
  },
  {
   "cell_type": "code",
   "execution_count": 21,
   "metadata": {
    "collapsed": false,
    "deletable": true,
    "editable": true,
    "slideshow": {
     "slide_type": "skip"
    },
    "tags": [
     "jupyter:hide_input"
    ]
   },
   "outputs": [
    {
     "data": {
      "image/png": "[encoded data removed]",
      "text/plain": [
       "<matplotlib.figure.Figure at 0x115326320>"
      ]
     },
     "metadata": {},
     "output_type": "display_data"
    }
   ],
   "source": [
    "h = velsel(1.0e-6)\n",
    "plt.show()\n"
   ]
  },
  {
   "cell_type": "markdown",
   "metadata": {
    "collapsed": true,
    "deletable": true,
    "editable": true,
    "slideshow": {
     "slide_type": "slide"
    }
   },
   "source": [
    "### Exercises\n",
    "\n",
    "1) If the above charge is a proton, could you determine the direction of the magnetic field?\n",
    "\n",
    "2) Find the Electric field required to have a proton travel through this region in a straight line if the magnetic field has magnitude 30 $\\mu$T and has an initial speed of $1.0x10^{4}$ m/s."
   ]
  },
  {
   "cell_type": "code",
   "execution_count": null,
   "metadata": {
    "collapsed": true
   },
   "outputs": [],
   "source": []
  }
 ],
 "metadata": {
  "celltoolbar": "Slideshow",
  "kernelspec": {
   "display_name": "py35b-test",
   "language": "python",
   "name": "py35b-test"
  },
  "language_info": {
   "codemirror_mode": {
    "name": "ipython",
    "version": 3
   },
   "file_extension": ".py",
   "mimetype": "text/x-python",
   "name": "python",
   "nbconvert_exporter": "python",
   "pygments_lexer": "ipython3",
   "version": "3.5.3"
  }
 },
 "nbformat": 4,
 "nbformat_minor": 0
}
